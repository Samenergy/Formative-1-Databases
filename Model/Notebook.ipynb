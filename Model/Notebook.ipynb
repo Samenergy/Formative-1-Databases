{
  "cells": [
    {
      "cell_type": "code",
      "execution_count": 3,
      "metadata": {
        "id": "nxw6hjmAMARi"
      },
      "outputs": [],
      "source": [
        "import pandas as pd\n",
        "import numpy as np\n",
        "import tensorflow as tf\n",
        "from tensorflow import keras\n",
        "from tensorflow.keras import layers\n",
        "from sklearn.model_selection import train_test_split\n",
        "from sklearn.preprocessing import StandardScaler, OneHotEncoder\n",
        "from sklearn.compose import ColumnTransformer\n",
        "from imblearn.over_sampling import SMOTE\n",
        "from sklearn.model_selection import train_test_split"
      ]
    },
    {
      "cell_type": "code",
      "execution_count": 4,
      "metadata": {
        "id": "GAkKdVYRMZoH"
      },
      "outputs": [],
      "source": [
        "# Load the dataset\n",
        "file_path = \"/Users/samenergy/Documents/Projects/Formative-1-Databases/loan_data.csv\"  # Change this if your file is in a different location\n",
        "df = pd.read_csv(file_path)"
      ]
    },
    {
      "cell_type": "code",
      "execution_count": 5,
      "metadata": {
        "colab": {
          "base_uri": "https://localhost:8080/",
          "height": 226
        },
        "id": "qp2RSYrPMep6",
        "outputId": "f7286cb9-5407-43f9-80d9-58d685b04840"
      },
      "outputs": [
        {
          "data": {
            "text/html": [
              "<div>\n",
              "<style scoped>\n",
              "    .dataframe tbody tr th:only-of-type {\n",
              "        vertical-align: middle;\n",
              "    }\n",
              "\n",
              "    .dataframe tbody tr th {\n",
              "        vertical-align: top;\n",
              "    }\n",
              "\n",
              "    .dataframe thead th {\n",
              "        text-align: right;\n",
              "    }\n",
              "</style>\n",
              "<table border=\"1\" class=\"dataframe\">\n",
              "  <thead>\n",
              "    <tr style=\"text-align: right;\">\n",
              "      <th></th>\n",
              "      <th>person_age</th>\n",
              "      <th>person_gender</th>\n",
              "      <th>person_education</th>\n",
              "      <th>person_income</th>\n",
              "      <th>person_emp_exp</th>\n",
              "      <th>person_home_ownership</th>\n",
              "      <th>loan_amnt</th>\n",
              "      <th>loan_intent</th>\n",
              "      <th>loan_int_rate</th>\n",
              "      <th>loan_percent_income</th>\n",
              "      <th>cb_person_cred_hist_length</th>\n",
              "      <th>credit_score</th>\n",
              "      <th>previous_loan_defaults_on_file</th>\n",
              "      <th>loan_status</th>\n",
              "    </tr>\n",
              "  </thead>\n",
              "  <tbody>\n",
              "    <tr>\n",
              "      <th>0</th>\n",
              "      <td>22.0</td>\n",
              "      <td>female</td>\n",
              "      <td>Master</td>\n",
              "      <td>71948.0</td>\n",
              "      <td>0</td>\n",
              "      <td>RENT</td>\n",
              "      <td>35000.0</td>\n",
              "      <td>PERSONAL</td>\n",
              "      <td>16.02</td>\n",
              "      <td>0.49</td>\n",
              "      <td>3.0</td>\n",
              "      <td>561</td>\n",
              "      <td>No</td>\n",
              "      <td>1</td>\n",
              "    </tr>\n",
              "    <tr>\n",
              "      <th>1</th>\n",
              "      <td>21.0</td>\n",
              "      <td>female</td>\n",
              "      <td>High School</td>\n",
              "      <td>12282.0</td>\n",
              "      <td>0</td>\n",
              "      <td>OWN</td>\n",
              "      <td>1000.0</td>\n",
              "      <td>EDUCATION</td>\n",
              "      <td>11.14</td>\n",
              "      <td>0.08</td>\n",
              "      <td>2.0</td>\n",
              "      <td>504</td>\n",
              "      <td>Yes</td>\n",
              "      <td>0</td>\n",
              "    </tr>\n",
              "    <tr>\n",
              "      <th>2</th>\n",
              "      <td>25.0</td>\n",
              "      <td>female</td>\n",
              "      <td>High School</td>\n",
              "      <td>12438.0</td>\n",
              "      <td>3</td>\n",
              "      <td>MORTGAGE</td>\n",
              "      <td>5500.0</td>\n",
              "      <td>MEDICAL</td>\n",
              "      <td>12.87</td>\n",
              "      <td>0.44</td>\n",
              "      <td>3.0</td>\n",
              "      <td>635</td>\n",
              "      <td>No</td>\n",
              "      <td>1</td>\n",
              "    </tr>\n",
              "    <tr>\n",
              "      <th>3</th>\n",
              "      <td>23.0</td>\n",
              "      <td>female</td>\n",
              "      <td>Bachelor</td>\n",
              "      <td>79753.0</td>\n",
              "      <td>0</td>\n",
              "      <td>RENT</td>\n",
              "      <td>35000.0</td>\n",
              "      <td>MEDICAL</td>\n",
              "      <td>15.23</td>\n",
              "      <td>0.44</td>\n",
              "      <td>2.0</td>\n",
              "      <td>675</td>\n",
              "      <td>No</td>\n",
              "      <td>1</td>\n",
              "    </tr>\n",
              "    <tr>\n",
              "      <th>4</th>\n",
              "      <td>24.0</td>\n",
              "      <td>male</td>\n",
              "      <td>Master</td>\n",
              "      <td>66135.0</td>\n",
              "      <td>1</td>\n",
              "      <td>RENT</td>\n",
              "      <td>35000.0</td>\n",
              "      <td>MEDICAL</td>\n",
              "      <td>14.27</td>\n",
              "      <td>0.53</td>\n",
              "      <td>4.0</td>\n",
              "      <td>586</td>\n",
              "      <td>No</td>\n",
              "      <td>1</td>\n",
              "    </tr>\n",
              "  </tbody>\n",
              "</table>\n",
              "</div>"
            ],
            "text/plain": [
              "   person_age person_gender person_education  person_income  person_emp_exp  \\\n",
              "0        22.0        female           Master        71948.0               0   \n",
              "1        21.0        female      High School        12282.0               0   \n",
              "2        25.0        female      High School        12438.0               3   \n",
              "3        23.0        female         Bachelor        79753.0               0   \n",
              "4        24.0          male           Master        66135.0               1   \n",
              "\n",
              "  person_home_ownership  loan_amnt loan_intent  loan_int_rate  \\\n",
              "0                  RENT    35000.0    PERSONAL          16.02   \n",
              "1                   OWN     1000.0   EDUCATION          11.14   \n",
              "2              MORTGAGE     5500.0     MEDICAL          12.87   \n",
              "3                  RENT    35000.0     MEDICAL          15.23   \n",
              "4                  RENT    35000.0     MEDICAL          14.27   \n",
              "\n",
              "   loan_percent_income  cb_person_cred_hist_length  credit_score  \\\n",
              "0                 0.49                         3.0           561   \n",
              "1                 0.08                         2.0           504   \n",
              "2                 0.44                         3.0           635   \n",
              "3                 0.44                         2.0           675   \n",
              "4                 0.53                         4.0           586   \n",
              "\n",
              "  previous_loan_defaults_on_file  loan_status  \n",
              "0                             No            1  \n",
              "1                            Yes            0  \n",
              "2                             No            1  \n",
              "3                             No            1  \n",
              "4                             No            1  "
            ]
          },
          "execution_count": 5,
          "metadata": {},
          "output_type": "execute_result"
        }
      ],
      "source": [
        "df.head()"
      ]
    },
    {
      "cell_type": "code",
      "execution_count": 6,
      "metadata": {
        "colab": {
          "base_uri": "https://localhost:8080/",
          "height": 300
        },
        "id": "v4vgeSjbMmAl",
        "outputId": "b9532fcd-8fac-4b6b-d6aa-d040542fd072"
      },
      "outputs": [
        {
          "data": {
            "text/html": [
              "<div>\n",
              "<style scoped>\n",
              "    .dataframe tbody tr th:only-of-type {\n",
              "        vertical-align: middle;\n",
              "    }\n",
              "\n",
              "    .dataframe tbody tr th {\n",
              "        vertical-align: top;\n",
              "    }\n",
              "\n",
              "    .dataframe thead th {\n",
              "        text-align: right;\n",
              "    }\n",
              "</style>\n",
              "<table border=\"1\" class=\"dataframe\">\n",
              "  <thead>\n",
              "    <tr style=\"text-align: right;\">\n",
              "      <th></th>\n",
              "      <th>person_age</th>\n",
              "      <th>person_income</th>\n",
              "      <th>person_emp_exp</th>\n",
              "      <th>loan_amnt</th>\n",
              "      <th>loan_int_rate</th>\n",
              "      <th>loan_percent_income</th>\n",
              "      <th>cb_person_cred_hist_length</th>\n",
              "      <th>credit_score</th>\n",
              "      <th>loan_status</th>\n",
              "    </tr>\n",
              "  </thead>\n",
              "  <tbody>\n",
              "    <tr>\n",
              "      <th>count</th>\n",
              "      <td>45000.000000</td>\n",
              "      <td>4.500000e+04</td>\n",
              "      <td>45000.000000</td>\n",
              "      <td>45000.000000</td>\n",
              "      <td>45000.000000</td>\n",
              "      <td>45000.000000</td>\n",
              "      <td>45000.000000</td>\n",
              "      <td>45000.000000</td>\n",
              "      <td>45000.000000</td>\n",
              "    </tr>\n",
              "    <tr>\n",
              "      <th>mean</th>\n",
              "      <td>27.764178</td>\n",
              "      <td>8.031905e+04</td>\n",
              "      <td>5.410333</td>\n",
              "      <td>9583.157556</td>\n",
              "      <td>11.006606</td>\n",
              "      <td>0.139725</td>\n",
              "      <td>5.867489</td>\n",
              "      <td>632.608756</td>\n",
              "      <td>0.222222</td>\n",
              "    </tr>\n",
              "    <tr>\n",
              "      <th>std</th>\n",
              "      <td>6.045108</td>\n",
              "      <td>8.042250e+04</td>\n",
              "      <td>6.063532</td>\n",
              "      <td>6314.886691</td>\n",
              "      <td>2.978808</td>\n",
              "      <td>0.087212</td>\n",
              "      <td>3.879702</td>\n",
              "      <td>50.435865</td>\n",
              "      <td>0.415744</td>\n",
              "    </tr>\n",
              "    <tr>\n",
              "      <th>min</th>\n",
              "      <td>20.000000</td>\n",
              "      <td>8.000000e+03</td>\n",
              "      <td>0.000000</td>\n",
              "      <td>500.000000</td>\n",
              "      <td>5.420000</td>\n",
              "      <td>0.000000</td>\n",
              "      <td>2.000000</td>\n",
              "      <td>390.000000</td>\n",
              "      <td>0.000000</td>\n",
              "    </tr>\n",
              "    <tr>\n",
              "      <th>25%</th>\n",
              "      <td>24.000000</td>\n",
              "      <td>4.720400e+04</td>\n",
              "      <td>1.000000</td>\n",
              "      <td>5000.000000</td>\n",
              "      <td>8.590000</td>\n",
              "      <td>0.070000</td>\n",
              "      <td>3.000000</td>\n",
              "      <td>601.000000</td>\n",
              "      <td>0.000000</td>\n",
              "    </tr>\n",
              "    <tr>\n",
              "      <th>50%</th>\n",
              "      <td>26.000000</td>\n",
              "      <td>6.704800e+04</td>\n",
              "      <td>4.000000</td>\n",
              "      <td>8000.000000</td>\n",
              "      <td>11.010000</td>\n",
              "      <td>0.120000</td>\n",
              "      <td>4.000000</td>\n",
              "      <td>640.000000</td>\n",
              "      <td>0.000000</td>\n",
              "    </tr>\n",
              "    <tr>\n",
              "      <th>75%</th>\n",
              "      <td>30.000000</td>\n",
              "      <td>9.578925e+04</td>\n",
              "      <td>8.000000</td>\n",
              "      <td>12237.250000</td>\n",
              "      <td>12.990000</td>\n",
              "      <td>0.190000</td>\n",
              "      <td>8.000000</td>\n",
              "      <td>670.000000</td>\n",
              "      <td>0.000000</td>\n",
              "    </tr>\n",
              "    <tr>\n",
              "      <th>max</th>\n",
              "      <td>144.000000</td>\n",
              "      <td>7.200766e+06</td>\n",
              "      <td>125.000000</td>\n",
              "      <td>35000.000000</td>\n",
              "      <td>20.000000</td>\n",
              "      <td>0.660000</td>\n",
              "      <td>30.000000</td>\n",
              "      <td>850.000000</td>\n",
              "      <td>1.000000</td>\n",
              "    </tr>\n",
              "  </tbody>\n",
              "</table>\n",
              "</div>"
            ],
            "text/plain": [
              "         person_age  person_income  person_emp_exp     loan_amnt  \\\n",
              "count  45000.000000   4.500000e+04    45000.000000  45000.000000   \n",
              "mean      27.764178   8.031905e+04        5.410333   9583.157556   \n",
              "std        6.045108   8.042250e+04        6.063532   6314.886691   \n",
              "min       20.000000   8.000000e+03        0.000000    500.000000   \n",
              "25%       24.000000   4.720400e+04        1.000000   5000.000000   \n",
              "50%       26.000000   6.704800e+04        4.000000   8000.000000   \n",
              "75%       30.000000   9.578925e+04        8.000000  12237.250000   \n",
              "max      144.000000   7.200766e+06      125.000000  35000.000000   \n",
              "\n",
              "       loan_int_rate  loan_percent_income  cb_person_cred_hist_length  \\\n",
              "count   45000.000000         45000.000000                45000.000000   \n",
              "mean       11.006606             0.139725                    5.867489   \n",
              "std         2.978808             0.087212                    3.879702   \n",
              "min         5.420000             0.000000                    2.000000   \n",
              "25%         8.590000             0.070000                    3.000000   \n",
              "50%        11.010000             0.120000                    4.000000   \n",
              "75%        12.990000             0.190000                    8.000000   \n",
              "max        20.000000             0.660000                   30.000000   \n",
              "\n",
              "       credit_score   loan_status  \n",
              "count  45000.000000  45000.000000  \n",
              "mean     632.608756      0.222222  \n",
              "std       50.435865      0.415744  \n",
              "min      390.000000      0.000000  \n",
              "25%      601.000000      0.000000  \n",
              "50%      640.000000      0.000000  \n",
              "75%      670.000000      0.000000  \n",
              "max      850.000000      1.000000  "
            ]
          },
          "execution_count": 6,
          "metadata": {},
          "output_type": "execute_result"
        }
      ],
      "source": [
        "df.describe()"
      ]
    },
    {
      "cell_type": "code",
      "execution_count": 7,
      "metadata": {
        "colab": {
          "base_uri": "https://localhost:8080/",
          "height": 523
        },
        "id": "yOuBjHLCNJ41",
        "outputId": "b40b633c-5e93-4429-b12d-6d85e867defc"
      },
      "outputs": [
        {
          "data": {
            "text/plain": [
              "person_age                        0\n",
              "person_gender                     0\n",
              "person_education                  0\n",
              "person_income                     0\n",
              "person_emp_exp                    0\n",
              "person_home_ownership             0\n",
              "loan_amnt                         0\n",
              "loan_intent                       0\n",
              "loan_int_rate                     0\n",
              "loan_percent_income               0\n",
              "cb_person_cred_hist_length        0\n",
              "credit_score                      0\n",
              "previous_loan_defaults_on_file    0\n",
              "loan_status                       0\n",
              "dtype: int64"
            ]
          },
          "execution_count": 7,
          "metadata": {},
          "output_type": "execute_result"
        }
      ],
      "source": [
        "df.isnull().sum()"
      ]
    },
    {
      "cell_type": "code",
      "execution_count": 8,
      "metadata": {
        "id": "UAHJMasPNXNg"
      },
      "outputs": [],
      "source": [
        "# Define categorical and numerical columns\n",
        "categorical_cols = ['person_gender', 'person_education', 'person_home_ownership',\n",
        "                    'loan_intent', 'previous_loan_defaults_on_file']\n",
        "numerical_cols = ['person_age', 'person_income', 'person_emp_exp', 'loan_amnt',\n",
        "                  'loan_int_rate', 'loan_percent_income', 'cb_person_cred_hist_length', 'credit_score']\n"
      ]
    },
    {
      "cell_type": "code",
      "execution_count": 9,
      "metadata": {
        "id": "XU1sTjm9Nfx8"
      },
      "outputs": [],
      "source": [
        "# Define target variable\n",
        "X = df[categorical_cols + numerical_cols]\n",
        "y = df['loan_status']\n"
      ]
    },
    {
      "cell_type": "code",
      "execution_count": 10,
      "metadata": {
        "id": "qM-myTkhN6Me"
      },
      "outputs": [],
      "source": [
        "# Define the column transformer with one-hot encoding for categorical columns and standard scaling for numerical columns\n",
        "preprocessor = ColumnTransformer(\n",
        "    transformers=[\n",
        "        ('cat', OneHotEncoder(), categorical_cols),\n",
        "        ('num', StandardScaler(), numerical_cols)\n",
        "    ])"
      ]
    },
    {
      "cell_type": "code",
      "execution_count": 11,
      "metadata": {
        "id": "qopzVH7KN6Eg"
      },
      "outputs": [],
      "source": [
        "# Apply the transformations\n",
        "X_transformed = preprocessor.fit_transform(X)\n",
        "\n",
        "# Convert the transformed data back to a DataFrame\n",
        "X_transformed_df = pd.DataFrame(X_transformed, columns=preprocessor.get_feature_names_out())\n"
      ]
    },
    {
      "cell_type": "code",
      "execution_count": 12,
      "metadata": {
        "colab": {
          "base_uri": "https://localhost:8080/",
          "height": 273
        },
        "id": "OiMKBAAtN574",
        "outputId": "f4e9adbf-4dce-4733-fd8e-c24521261fd6"
      },
      "outputs": [
        {
          "data": {
            "text/html": [
              "<div>\n",
              "<style scoped>\n",
              "    .dataframe tbody tr th:only-of-type {\n",
              "        vertical-align: middle;\n",
              "    }\n",
              "\n",
              "    .dataframe tbody tr th {\n",
              "        vertical-align: top;\n",
              "    }\n",
              "\n",
              "    .dataframe thead th {\n",
              "        text-align: right;\n",
              "    }\n",
              "</style>\n",
              "<table border=\"1\" class=\"dataframe\">\n",
              "  <thead>\n",
              "    <tr style=\"text-align: right;\">\n",
              "      <th></th>\n",
              "      <th>cat__person_gender_female</th>\n",
              "      <th>cat__person_gender_male</th>\n",
              "      <th>cat__person_education_Associate</th>\n",
              "      <th>cat__person_education_Bachelor</th>\n",
              "      <th>cat__person_education_Doctorate</th>\n",
              "      <th>cat__person_education_High School</th>\n",
              "      <th>cat__person_education_Master</th>\n",
              "      <th>cat__person_home_ownership_MORTGAGE</th>\n",
              "      <th>cat__person_home_ownership_OTHER</th>\n",
              "      <th>cat__person_home_ownership_OWN</th>\n",
              "      <th>...</th>\n",
              "      <th>cat__previous_loan_defaults_on_file_No</th>\n",
              "      <th>cat__previous_loan_defaults_on_file_Yes</th>\n",
              "      <th>num__person_age</th>\n",
              "      <th>num__person_income</th>\n",
              "      <th>num__person_emp_exp</th>\n",
              "      <th>num__loan_amnt</th>\n",
              "      <th>num__loan_int_rate</th>\n",
              "      <th>num__loan_percent_income</th>\n",
              "      <th>num__cb_person_cred_hist_length</th>\n",
              "      <th>num__credit_score</th>\n",
              "    </tr>\n",
              "  </thead>\n",
              "  <tbody>\n",
              "    <tr>\n",
              "      <th>0</th>\n",
              "      <td>1.0</td>\n",
              "      <td>0.0</td>\n",
              "      <td>0.0</td>\n",
              "      <td>0.0</td>\n",
              "      <td>0.0</td>\n",
              "      <td>0.0</td>\n",
              "      <td>1.0</td>\n",
              "      <td>0.0</td>\n",
              "      <td>0.0</td>\n",
              "      <td>0.0</td>\n",
              "      <td>...</td>\n",
              "      <td>1.0</td>\n",
              "      <td>0.0</td>\n",
              "      <td>-0.953538</td>\n",
              "      <td>-0.104090</td>\n",
              "      <td>-0.892284</td>\n",
              "      <td>4.024953</td>\n",
              "      <td>1.683039</td>\n",
              "      <td>4.016394</td>\n",
              "      <td>-0.739109</td>\n",
              "      <td>-1.419814</td>\n",
              "    </tr>\n",
              "    <tr>\n",
              "      <th>1</th>\n",
              "      <td>1.0</td>\n",
              "      <td>0.0</td>\n",
              "      <td>0.0</td>\n",
              "      <td>0.0</td>\n",
              "      <td>0.0</td>\n",
              "      <td>1.0</td>\n",
              "      <td>0.0</td>\n",
              "      <td>0.0</td>\n",
              "      <td>0.0</td>\n",
              "      <td>1.0</td>\n",
              "      <td>...</td>\n",
              "      <td>0.0</td>\n",
              "      <td>1.0</td>\n",
              "      <td>-1.118963</td>\n",
              "      <td>-0.846005</td>\n",
              "      <td>-0.892284</td>\n",
              "      <td>-1.359209</td>\n",
              "      <td>0.044782</td>\n",
              "      <td>-0.684829</td>\n",
              "      <td>-0.996863</td>\n",
              "      <td>-2.549975</td>\n",
              "    </tr>\n",
              "    <tr>\n",
              "      <th>2</th>\n",
              "      <td>1.0</td>\n",
              "      <td>0.0</td>\n",
              "      <td>0.0</td>\n",
              "      <td>0.0</td>\n",
              "      <td>0.0</td>\n",
              "      <td>1.0</td>\n",
              "      <td>0.0</td>\n",
              "      <td>1.0</td>\n",
              "      <td>0.0</td>\n",
              "      <td>0.0</td>\n",
              "      <td>...</td>\n",
              "      <td>1.0</td>\n",
              "      <td>0.0</td>\n",
              "      <td>-0.457264</td>\n",
              "      <td>-0.844065</td>\n",
              "      <td>-0.397517</td>\n",
              "      <td>-0.646600</td>\n",
              "      <td>0.625557</td>\n",
              "      <td>3.443074</td>\n",
              "      <td>-0.739109</td>\n",
              "      <td>0.047412</td>\n",
              "    </tr>\n",
              "    <tr>\n",
              "      <th>3</th>\n",
              "      <td>1.0</td>\n",
              "      <td>0.0</td>\n",
              "      <td>0.0</td>\n",
              "      <td>1.0</td>\n",
              "      <td>0.0</td>\n",
              "      <td>0.0</td>\n",
              "      <td>0.0</td>\n",
              "      <td>0.0</td>\n",
              "      <td>0.0</td>\n",
              "      <td>0.0</td>\n",
              "      <td>...</td>\n",
              "      <td>1.0</td>\n",
              "      <td>0.0</td>\n",
              "      <td>-0.788113</td>\n",
              "      <td>-0.007039</td>\n",
              "      <td>-0.892284</td>\n",
              "      <td>4.024953</td>\n",
              "      <td>1.417829</td>\n",
              "      <td>3.443074</td>\n",
              "      <td>-0.996863</td>\n",
              "      <td>0.840507</td>\n",
              "    </tr>\n",
              "    <tr>\n",
              "      <th>4</th>\n",
              "      <td>0.0</td>\n",
              "      <td>1.0</td>\n",
              "      <td>0.0</td>\n",
              "      <td>0.0</td>\n",
              "      <td>0.0</td>\n",
              "      <td>0.0</td>\n",
              "      <td>1.0</td>\n",
              "      <td>0.0</td>\n",
              "      <td>0.0</td>\n",
              "      <td>0.0</td>\n",
              "      <td>...</td>\n",
              "      <td>1.0</td>\n",
              "      <td>0.0</td>\n",
              "      <td>-0.622689</td>\n",
              "      <td>-0.176371</td>\n",
              "      <td>-0.727362</td>\n",
              "      <td>4.024953</td>\n",
              "      <td>1.095549</td>\n",
              "      <td>4.475050</td>\n",
              "      <td>-0.481354</td>\n",
              "      <td>-0.924130</td>\n",
              "    </tr>\n",
              "  </tbody>\n",
              "</table>\n",
              "<p>5 rows × 27 columns</p>\n",
              "</div>"
            ],
            "text/plain": [
              "   cat__person_gender_female  cat__person_gender_male  \\\n",
              "0                        1.0                      0.0   \n",
              "1                        1.0                      0.0   \n",
              "2                        1.0                      0.0   \n",
              "3                        1.0                      0.0   \n",
              "4                        0.0                      1.0   \n",
              "\n",
              "   cat__person_education_Associate  cat__person_education_Bachelor  \\\n",
              "0                              0.0                             0.0   \n",
              "1                              0.0                             0.0   \n",
              "2                              0.0                             0.0   \n",
              "3                              0.0                             1.0   \n",
              "4                              0.0                             0.0   \n",
              "\n",
              "   cat__person_education_Doctorate  cat__person_education_High School  \\\n",
              "0                              0.0                                0.0   \n",
              "1                              0.0                                1.0   \n",
              "2                              0.0                                1.0   \n",
              "3                              0.0                                0.0   \n",
              "4                              0.0                                0.0   \n",
              "\n",
              "   cat__person_education_Master  cat__person_home_ownership_MORTGAGE  \\\n",
              "0                           1.0                                  0.0   \n",
              "1                           0.0                                  0.0   \n",
              "2                           0.0                                  1.0   \n",
              "3                           0.0                                  0.0   \n",
              "4                           1.0                                  0.0   \n",
              "\n",
              "   cat__person_home_ownership_OTHER  cat__person_home_ownership_OWN  ...  \\\n",
              "0                               0.0                             0.0  ...   \n",
              "1                               0.0                             1.0  ...   \n",
              "2                               0.0                             0.0  ...   \n",
              "3                               0.0                             0.0  ...   \n",
              "4                               0.0                             0.0  ...   \n",
              "\n",
              "   cat__previous_loan_defaults_on_file_No  \\\n",
              "0                                     1.0   \n",
              "1                                     0.0   \n",
              "2                                     1.0   \n",
              "3                                     1.0   \n",
              "4                                     1.0   \n",
              "\n",
              "   cat__previous_loan_defaults_on_file_Yes  num__person_age  \\\n",
              "0                                      0.0        -0.953538   \n",
              "1                                      1.0        -1.118963   \n",
              "2                                      0.0        -0.457264   \n",
              "3                                      0.0        -0.788113   \n",
              "4                                      0.0        -0.622689   \n",
              "\n",
              "   num__person_income  num__person_emp_exp  num__loan_amnt  \\\n",
              "0           -0.104090            -0.892284        4.024953   \n",
              "1           -0.846005            -0.892284       -1.359209   \n",
              "2           -0.844065            -0.397517       -0.646600   \n",
              "3           -0.007039            -0.892284        4.024953   \n",
              "4           -0.176371            -0.727362        4.024953   \n",
              "\n",
              "   num__loan_int_rate  num__loan_percent_income  \\\n",
              "0            1.683039                  4.016394   \n",
              "1            0.044782                 -0.684829   \n",
              "2            0.625557                  3.443074   \n",
              "3            1.417829                  3.443074   \n",
              "4            1.095549                  4.475050   \n",
              "\n",
              "   num__cb_person_cred_hist_length  num__credit_score  \n",
              "0                        -0.739109          -1.419814  \n",
              "1                        -0.996863          -2.549975  \n",
              "2                        -0.739109           0.047412  \n",
              "3                        -0.996863           0.840507  \n",
              "4                        -0.481354          -0.924130  \n",
              "\n",
              "[5 rows x 27 columns]"
            ]
          },
          "execution_count": 12,
          "metadata": {},
          "output_type": "execute_result"
        }
      ],
      "source": [
        "# Display the transformed datase\n",
        "X_transformed_df.head()"
      ]
    },
    {
      "cell_type": "code",
      "execution_count": 13,
      "metadata": {
        "colab": {
          "base_uri": "https://localhost:8080/"
        },
        "id": "A2KRUCHMRYLd",
        "outputId": "88db23a4-06c0-4aa2-de80-5c850cc74a32"
      },
      "outputs": [
        {
          "name": "stdout",
          "output_type": "stream",
          "text": [
            "loan_status\n",
            "0    35000\n",
            "1    10000\n",
            "Name: count, dtype: int64\n"
          ]
        }
      ],
      "source": [
        "# Check the distribution of values in the loan_status column\n",
        "loan_status_counts = df['loan_status'].value_counts()\n",
        "\n",
        "print(loan_status_counts)\n"
      ]
    },
    {
      "cell_type": "code",
      "execution_count": 14,
      "metadata": {
        "id": "A2v542tORyWW"
      },
      "outputs": [],
      "source": [
        "\n",
        "# Split the data into training and testing sets (you can use the train_test_split for better results)\n",
        "X_train, X_test, y_train, y_test = train_test_split(X_transformed, y, test_size=0.2, random_state=42)\n"
      ]
    },
    {
      "cell_type": "code",
      "execution_count": 15,
      "metadata": {
        "id": "vEdtYZtcR2Lx"
      },
      "outputs": [],
      "source": [
        "# Initialize SMOTE to balance the training dataset\n",
        "smote = SMOTE(random_state=42)\n"
      ]
    },
    {
      "cell_type": "code",
      "execution_count": 16,
      "metadata": {
        "id": "moy8lFO2R6mp"
      },
      "outputs": [
        {
          "name": "stderr",
          "output_type": "stream",
          "text": [
            "/Users/samenergy/Library/Python/3.9/lib/python/site-packages/sklearn/base.py:474: FutureWarning: `BaseEstimator._validate_data` is deprecated in 1.6 and will be removed in 1.7. Use `sklearn.utils.validation.validate_data` instead. This function becomes public and is part of the scikit-learn developer API.\n",
            "  warnings.warn(\n"
          ]
        }
      ],
      "source": [
        "# Fit SMOTE on the training data and resample it\n",
        "X_train_resampled, y_train_resampled = smote.fit_resample(X_train, y_train)\n"
      ]
    },
    {
      "cell_type": "code",
      "execution_count": 17,
      "metadata": {
        "colab": {
          "base_uri": "https://localhost:8080/"
        },
        "id": "gf9MvayFSOvD",
        "outputId": "2a9e9443-d78d-4d8c-d5bd-77975e95e597"
      },
      "outputs": [
        {
          "name": "stdout",
          "output_type": "stream",
          "text": [
            "Original training set size: loan_status\n",
            "0    28010\n",
            "1     7990\n",
            "Name: count, dtype: int64\n",
            "Resampled training set size: loan_status\n",
            "0    28010\n",
            "1    28010\n",
            "Name: count, dtype: int64\n"
          ]
        }
      ],
      "source": [
        "# Check the distribution of the resampled data\n",
        "print(f\"Original training set size: {y_train.value_counts()}\")\n",
        "print(f\"Resampled training set size: {y_train_resampled.value_counts()}\")"
      ]
    },
    {
      "cell_type": "code",
      "execution_count": 18,
      "metadata": {
        "id": "MZKakNEtSjK5"
      },
      "outputs": [],
      "source": [
        "# Define the TensorFlow model\n",
        "model = keras.Sequential([\n",
        "    layers.Input(shape=(X_train_resampled.shape[1],)),  # Input layer matching feature count\n",
        "    layers.Dense(64, activation='relu'),\n",
        "    layers.Dense(32, activation='relu'),\n",
        "    layers.Dense(1, activation='sigmoid')  # Binary classification (0 or 1)\n",
        "])\n"
      ]
    },
    {
      "cell_type": "code",
      "execution_count": 19,
      "metadata": {
        "id": "sflBBTe0SvZQ"
      },
      "outputs": [],
      "source": [
        "# Compile the model\n",
        "model.compile(optimizer='adam', loss='binary_crossentropy', metrics=['accuracy'])\n"
      ]
    },
    {
      "cell_type": "code",
      "execution_count": 20,
      "metadata": {
        "colab": {
          "base_uri": "https://localhost:8080/"
        },
        "id": "6_LDpftFS3dJ",
        "outputId": "aa7afdff-3ac0-44a1-904b-390d5907f4f9"
      },
      "outputs": [
        {
          "name": "stdout",
          "output_type": "stream",
          "text": [
            "Epoch 1/20\n",
            "\u001b[1m1751/1751\u001b[0m \u001b[32m━━━━━━━━━━━━━━━━━━━━\u001b[0m\u001b[37m\u001b[0m \u001b[1m1s\u001b[0m 403us/step - accuracy: 0.8712 - loss: 0.2944 - val_accuracy: 0.8736 - val_loss: 0.2473\n",
            "Epoch 2/20\n",
            "\u001b[1m1751/1751\u001b[0m \u001b[32m━━━━━━━━━━━━━━━━━━━━\u001b[0m\u001b[37m\u001b[0m \u001b[1m1s\u001b[0m 374us/step - accuracy: 0.9003 - loss: 0.2150 - val_accuracy: 0.8820 - val_loss: 0.2323\n",
            "Epoch 3/20\n",
            "\u001b[1m1751/1751\u001b[0m \u001b[32m━━━━━━━━━━━━━━━━━━━━\u001b[0m\u001b[37m\u001b[0m \u001b[1m1s\u001b[0m 498us/step - accuracy: 0.9024 - loss: 0.2109 - val_accuracy: 0.8944 - val_loss: 0.2161\n",
            "Epoch 4/20\n",
            "\u001b[1m1751/1751\u001b[0m \u001b[32m━━━━━━━━━━━━━━━━━━━━\u001b[0m\u001b[37m\u001b[0m \u001b[1m1s\u001b[0m 430us/step - accuracy: 0.9057 - loss: 0.2028 - val_accuracy: 0.8872 - val_loss: 0.2288\n",
            "Epoch 5/20\n",
            "\u001b[1m1751/1751\u001b[0m \u001b[32m━━━━━━━━━━━━━━━━━━━━\u001b[0m\u001b[37m\u001b[0m \u001b[1m1s\u001b[0m 385us/step - accuracy: 0.9079 - loss: 0.2011 - val_accuracy: 0.8910 - val_loss: 0.2197\n",
            "Epoch 6/20\n",
            "\u001b[1m1751/1751\u001b[0m \u001b[32m━━━━━━━━━━━━━━━━━━━━\u001b[0m\u001b[37m\u001b[0m \u001b[1m1s\u001b[0m 375us/step - accuracy: 0.9109 - loss: 0.1931 - val_accuracy: 0.8880 - val_loss: 0.2328\n",
            "Epoch 7/20\n",
            "\u001b[1m1751/1751\u001b[0m \u001b[32m━━━━━━━━━━━━━━━━━━━━\u001b[0m\u001b[37m\u001b[0m \u001b[1m1s\u001b[0m 363us/step - accuracy: 0.9122 - loss: 0.1909 - val_accuracy: 0.8882 - val_loss: 0.2283\n",
            "Epoch 8/20\n",
            "\u001b[1m1751/1751\u001b[0m \u001b[32m━━━━━━━━━━━━━━━━━━━━\u001b[0m\u001b[37m\u001b[0m \u001b[1m1s\u001b[0m 382us/step - accuracy: 0.9134 - loss: 0.1856 - val_accuracy: 0.8797 - val_loss: 0.2416\n",
            "Epoch 9/20\n",
            "\u001b[1m1751/1751\u001b[0m \u001b[32m━━━━━━━━━━━━━━━━━━━━\u001b[0m\u001b[37m\u001b[0m \u001b[1m1s\u001b[0m 387us/step - accuracy: 0.9153 - loss: 0.1863 - val_accuracy: 0.8863 - val_loss: 0.2236\n",
            "Epoch 10/20\n",
            "\u001b[1m1751/1751\u001b[0m \u001b[32m━━━━━━━━━━━━━━━━━━━━\u001b[0m\u001b[37m\u001b[0m \u001b[1m1s\u001b[0m 392us/step - accuracy: 0.9172 - loss: 0.1820 - val_accuracy: 0.8797 - val_loss: 0.2435\n",
            "Epoch 11/20\n",
            "\u001b[1m1751/1751\u001b[0m \u001b[32m━━━━━━━━━━━━━━━━━━━━\u001b[0m\u001b[37m\u001b[0m \u001b[1m1s\u001b[0m 373us/step - accuracy: 0.9177 - loss: 0.1798 - val_accuracy: 0.8713 - val_loss: 0.2543\n",
            "Epoch 12/20\n",
            "\u001b[1m1751/1751\u001b[0m \u001b[32m━━━━━━━━━━━━━━━━━━━━\u001b[0m\u001b[37m\u001b[0m \u001b[1m1s\u001b[0m 360us/step - accuracy: 0.9173 - loss: 0.1802 - val_accuracy: 0.8953 - val_loss: 0.2152\n",
            "Epoch 13/20\n",
            "\u001b[1m1751/1751\u001b[0m \u001b[32m━━━━━━━━━━━━━━━━━━━━\u001b[0m\u001b[37m\u001b[0m \u001b[1m1s\u001b[0m 360us/step - accuracy: 0.9200 - loss: 0.1764 - val_accuracy: 0.8813 - val_loss: 0.2433\n",
            "Epoch 14/20\n",
            "\u001b[1m1751/1751\u001b[0m \u001b[32m━━━━━━━━━━━━━━━━━━━━\u001b[0m\u001b[37m\u001b[0m \u001b[1m1s\u001b[0m 360us/step - accuracy: 0.9216 - loss: 0.1744 - val_accuracy: 0.8961 - val_loss: 0.2135\n",
            "Epoch 15/20\n",
            "\u001b[1m1751/1751\u001b[0m \u001b[32m━━━━━━━━━━━━━━━━━━━━\u001b[0m\u001b[37m\u001b[0m \u001b[1m1s\u001b[0m 381us/step - accuracy: 0.9214 - loss: 0.1755 - val_accuracy: 0.8967 - val_loss: 0.2118\n",
            "Epoch 16/20\n",
            "\u001b[1m1751/1751\u001b[0m \u001b[32m━━━━━━━━━━━━━━━━━━━━\u001b[0m\u001b[37m\u001b[0m \u001b[1m1s\u001b[0m 368us/step - accuracy: 0.9230 - loss: 0.1696 - val_accuracy: 0.8891 - val_loss: 0.2221\n",
            "Epoch 17/20\n",
            "\u001b[1m1751/1751\u001b[0m \u001b[32m━━━━━━━━━━━━━━━━━━━━\u001b[0m\u001b[37m\u001b[0m \u001b[1m1s\u001b[0m 359us/step - accuracy: 0.9221 - loss: 0.1715 - val_accuracy: 0.8927 - val_loss: 0.2262\n",
            "Epoch 18/20\n",
            "\u001b[1m1751/1751\u001b[0m \u001b[32m━━━━━━━━━━━━━━━━━━━━\u001b[0m\u001b[37m\u001b[0m \u001b[1m1s\u001b[0m 363us/step - accuracy: 0.9252 - loss: 0.1696 - val_accuracy: 0.8968 - val_loss: 0.2168\n",
            "Epoch 19/20\n",
            "\u001b[1m1751/1751\u001b[0m \u001b[32m━━━━━━━━━━━━━━━━━━━━\u001b[0m\u001b[37m\u001b[0m \u001b[1m1s\u001b[0m 360us/step - accuracy: 0.9265 - loss: 0.1664 - val_accuracy: 0.8947 - val_loss: 0.2238\n",
            "Epoch 20/20\n",
            "\u001b[1m1751/1751\u001b[0m \u001b[32m━━━━━━━━━━━━━━━━━━━━\u001b[0m\u001b[37m\u001b[0m \u001b[1m1s\u001b[0m 357us/step - accuracy: 0.9269 - loss: 0.1660 - val_accuracy: 0.8961 - val_loss: 0.2177\n"
          ]
        }
      ],
      "source": [
        "# Train the model\n",
        "history = model.fit(X_train_resampled, y_train_resampled, validation_data=(X_test, y_test), epochs=20, batch_size=32, verbose=1)\n"
      ]
    },
    {
      "cell_type": "code",
      "execution_count": 21,
      "metadata": {
        "colab": {
          "base_uri": "https://localhost:8080/"
        },
        "id": "pUYeKihcTyLs",
        "outputId": "6ec22d75-7165-4862-e960-0c549c0e2599"
      },
      "outputs": [
        {
          "name": "stdout",
          "output_type": "stream",
          "text": [
            "\u001b[1m282/282\u001b[0m \u001b[32m━━━━━━━━━━━━━━━━━━━━\u001b[0m\u001b[37m\u001b[0m \u001b[1m0s\u001b[0m 277us/step - accuracy: 0.8965 - loss: 0.2116\n",
            "Test Accuracy: 0.8961\n"
          ]
        }
      ],
      "source": [
        "# Evaluate the model\n",
        "test_loss, test_accuracy = model.evaluate(X_test, y_test)\n",
        "print(f\"Test Accuracy: {test_accuracy:.4f}\")\n"
      ]
    },
    {
      "cell_type": "code",
      "execution_count": 22,
      "metadata": {
        "colab": {
          "base_uri": "https://localhost:8080/",
          "height": 581
        },
        "id": "I_KG4CdlT0v_",
        "outputId": "a6eb29e6-527d-48fe-e0d3-bd5a40890f6c"
      },
      "outputs": [
        {
          "name": "stdout",
          "output_type": "stream",
          "text": [
            "\u001b[1m282/282\u001b[0m \u001b[32m━━━━━━━━━━━━━━━━━━━━\u001b[0m\u001b[37m\u001b[0m \u001b[1m0s\u001b[0m 233us/step\n"
          ]
        },
        {
          "data": {
            "image/png": "[encoded data removed]",
            "text/plain": [
              "<Figure size 600x600 with 2 Axes>"
            ]
          },
          "metadata": {},
          "output_type": "display_data"
        }
      ],
      "source": [
        "import matplotlib.pyplot as plt\n",
        "import seaborn as sns\n",
        "from sklearn.metrics import confusion_matrix\n",
        "import numpy as np\n",
        "\n",
        "# 1. Confusion Matrix\n",
        "y_pred = (model.predict(X_test) > 0.5).astype(\"int32\")  # Predictions for binary classification (0 or 1)\n",
        "cm = confusion_matrix(y_test, y_pred)\n",
        "\n",
        "# Plot confusion matrix\n",
        "plt.figure(figsize=(6, 6))\n",
        "sns.heatmap(cm, annot=True, fmt=\"d\", cmap=\"Blues\", xticklabels=[\"No\", \"Yes\"], yticklabels=[\"No\", \"Yes\"])\n",
        "plt.xlabel(\"Predicted\")\n",
        "plt.ylabel(\"Actual\")\n",
        "plt.title(\"Confusion Matrix\")\n",
        "plt.show()"
      ]
    },
    {
      "cell_type": "code",
      "execution_count": 23,
      "metadata": {
        "colab": {
          "base_uri": "https://localhost:8080/",
          "height": 877
        },
        "id": "Sap3VhsRUljU",
        "outputId": "c0b371fb-0b19-47eb-e719-f2a738ac08f6"
      },
      "outputs": [
        {
          "data": {
            "image/png": "[encoded data removed]",
            "text/plain": [
              "<Figure size 1000x800 with 2 Axes>"
            ]
          },
          "metadata": {},
          "output_type": "display_data"
        }
      ],
      "source": [
        "# 2. Correlation Heatmap (For the original features before transformations)\n",
        "correlation_matrix = df[numerical_cols].corr()  # Correlation matrix for numerical features\n",
        "plt.figure(figsize=(10, 8))\n",
        "sns.heatmap(correlation_matrix, annot=True, cmap='coolwarm', fmt='.2f', linewidths=0.5)\n",
        "plt.title(\"Correlation Heatmap\")\n",
        "plt.show()"
      ]
    },
    {
      "cell_type": "markdown",
      "metadata": {
        "id": "vC2dqOSHVL5k"
      },
      "source": []
    },
    {
      "cell_type": "code",
      "execution_count": 24,
      "metadata": {
        "colab": {
          "base_uri": "https://localhost:8080/"
        },
        "id": "fjC_7AM5VHjz",
        "outputId": "05bcbb14-11bb-436a-a37c-76bc48c4d272"
      },
      "outputs": [
        {
          "name": "stdout",
          "output_type": "stream",
          "text": [
            "Model saved successfully!\n"
          ]
        }
      ],
      "source": [
        "# Save the model to a file\n",
        "model.save('loan_prediction_model.keras')\n",
        "\n",
        "print(\"Model saved successfully!\")\n"
      ]
    },
    {
      "cell_type": "code",
      "execution_count": 25,
      "metadata": {
        "colab": {
          "base_uri": "https://localhost:8080/"
        },
        "id": "Dpdr5G4FVzc3",
        "outputId": "5dff17e9-996e-4f71-feab-81a3b4839ce3"
      },
      "outputs": [
        {
          "data": {
            "text/plain": [
              "['preprocessor.pkl']"
            ]
          },
          "execution_count": 25,
          "metadata": {},
          "output_type": "execute_result"
        }
      ],
      "source": [
        "import joblib\n",
        "from sklearn.compose import ColumnTransformer\n",
        "from sklearn.preprocessing import OneHotEncoder, StandardScaler\n",
        "from imblearn.over_sampling import SMOTE\n",
        "from sklearn.model_selection import train_test_split\n",
        "\n",
        "# Define the preprocessor again\n",
        "preprocessor = ColumnTransformer(\n",
        "    transformers=[\n",
        "        ('cat', OneHotEncoder(), categorical_cols),\n",
        "        ('num', StandardScaler(), numerical_cols)\n",
        "    ])\n",
        "\n",
        "# Fit the preprocessor on the training data\n",
        "X_transformed = preprocessor.fit_transform(X)\n",
        "\n",
        "# Save the preprocessor to a file\n",
        "joblib.dump(preprocessor, 'preprocessor.pkl')\n"
      ]
    },
    {
      "cell_type": "code",
      "execution_count": 26,
      "metadata": {
        "colab": {
          "base_uri": "https://localhost:8080/"
        },
        "id": "0_nRie5BZt0I",
        "outputId": "9628f9ce-5969-4443-db8f-e11378337348"
      },
      "outputs": [
        {
          "name": "stdout",
          "output_type": "stream",
          "text": [
            "\u001b[1m1/1\u001b[0m \u001b[32m━━━━━━━━━━━━━━━━━━━━\u001b[0m\u001b[37m\u001b[0m \u001b[1m0s\u001b[0m 20ms/step\n",
            "Loan Status Prediction: Denied\n"
          ]
        }
      ],
      "source": [
        "import joblib\n",
        "import pandas as pd\n",
        "import json\n",
        "import tensorflow as tf\n",
        "from tensorflow import keras\n",
        "\n",
        "# Load the pre-trained model and the fitted preprocessor\n",
        "model = keras.models.load_model('loan_prediction_model.keras')  # Adjust the path to where your model is saved\n",
        "preprocessor = joblib.load('preprocessor.pkl')  # Load the saved preprocessor\n",
        "\n",
        "# Sample JSON input data\n",
        "json_data = '''{\n",
        "    \"person_age\": 21.0,\n",
        "    \"person_gender\": \"female\",\n",
        "    \"person_education\": \"High School\",\n",
        "    \"person_income\": 12282.0,\n",
        "    \"person_emp_exp\": 0,\n",
        "    \"person_home_ownership\": \"OWN\",\n",
        "    \"loan_amnt\": 1000.0,\n",
        "    \"loan_intent\": \"EDUCATION\",\n",
        "    \"loan_int_rate\": 11.14,\n",
        "    \"loan_percent_income\": 0.08,\n",
        "    \"cb_person_cred_hist_length\": 2.0,\n",
        "    \"credit_score\": 504,\n",
        "    \"previous_loan_defaults_on_file\": \"Yes\"\n",
        "\n",
        "  }'''\n",
        "\n",
        "# Convert JSON to a dictionary\n",
        "input_data = json.loads(json_data)\n",
        "\n",
        "# Convert input data to a DataFrame (same structure as during training)\n",
        "input_df = pd.DataFrame([input_data])\n",
        "\n",
        "# Apply the same preprocessing steps (one-hot encoding, standard scaling)\n",
        "X_input = preprocessor.transform(input_df)\n",
        "\n",
        "# Predict the loan status (0 or 1) using the trained model\n",
        "prediction = model.predict(X_input)\n",
        "\n",
        "# Print the prediction result\n",
        "loan_status_prediction = 'Approved' if prediction[0][0] > 0.5 else 'Denied'\n",
        "print(f\"Loan Status Prediction: {loan_status_prediction}\")\n"
      ]
    }
  ],
  "metadata": {
    "colab": {
      "provenance": []
    },
    "kernelspec": {
      "display_name": "Python 3",
      "name": "python3"
    },
    "language_info": {
      "codemirror_mode": {
        "name": "ipython",
        "version": 3
      },
      "file_extension": ".py",
      "mimetype": "text/x-python",
      "name": "python",
      "nbconvert_exporter": "python",
      "pygments_lexer": "ipython3",
      "version": "3.9.6"
    }
  },
  "nbformat": 4,
  "nbformat_minor": 0
}
