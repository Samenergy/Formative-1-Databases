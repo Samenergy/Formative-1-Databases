{
  "nbformat": 4,
  "nbformat_minor": 0,
  "metadata": {
    "colab": {
      "provenance": [],
      "include_colab_link": true
    },
    "kernelspec": {
      "name": "python3",
      "display_name": "Python 3"
    },
    "language_info": {
      "name": "python"
    }
  },
  "cells": [
    {
      "cell_type": "markdown",
      "metadata": {
        "id": "view-in-github",
        "colab_type": "text"
      },
      "source": [
        "<a href=\"https://colab.research.google.com/github/Samenergy/Formative-1-Databases/blob/main/Peer_group_13_Formative_2_Data_Preprocessing__Jules_Gatete.ipynb\" target=\"_parent\"><img src=\"https://colab.research.google.com/assets/colab-badge.svg\" alt=\"Open In Colab\"/></a>"
      ]
    },
    {
      "cell_type": "markdown",
      "source": [],
      "metadata": {
        "id": "4SXTgV-ul_0z"
      }
    },
    {
      "cell_type": "markdown",
      "source": [
        "# **Formative 2- Data Preprocessing Assignment for Machine Learning Pipeline**\n",
        "\n",
        "## Group Members\n",
        "\n",
        "1.   Juliana Crystal Holder\n",
        "2.   Jules Gatete\n",
        "3.  Samuel Dushime\n",
        "\n",
        "\n",
        "# Assignment Overview\n",
        "In this assignment, we'll be working with real-world datasets that contain overlapping but different features. The goal is to augment, merge, and enhance the data while ensuring consistency in a machine learning pipeline.\n",
        "The assignment is divided into three main parts:\n",
        "\n",
        "\n",
        "*   Data Augmentation on CSV Files\n",
        "*   Merging Datasets with Transitive Properties\n",
        "*   Data Consistency and Quality Checks\n",
        "\n",
        "This notebook contains the implementation for all three parts, along with detailed explanations and visualizations of the approach taken at each step.\n",
        "\n"
      ],
      "metadata": {
        "id": "r2Pyyq3JmODU"
      }
    },
    {
      "cell_type": "markdown",
      "source": [
        "**Part 2: Data Augmentation on CSV Files (Jules Gatete)**"
      ],
      "metadata": {
        "id": "SgGU7tZuoFqS"
      }
    },
    {
      "cell_type": "code",
      "execution_count": 4,
      "metadata": {
        "id": "z5-KuhbGeurB"
      },
      "outputs": [],
      "source": [
        "import pandas as pd\n",
        "import numpy as np\n",
        "from sklearn.impute import SimpleImputer\n",
        "from sklearn.preprocessing import PowerTransformer\n",
        "from sklearn.ensemble import RandomForestRegressor\n",
        "from sklearn.model_selection import train_test_split\n",
        "from imblearn.over_sampling import SMOTE\n",
        "import random"
      ]
    },
    {
      "cell_type": "code",
      "source": [
        "transactions_df = pd.read_csv(\"customer_transactions_augmented.csv\")\n",
        "social_profiles_df = pd.read_csv(\"customer_social_profiles.csv\")\n",
        "id_mapping_df = pd.read_csv(\"id_mapping.csv\")"
      ],
      "metadata": {
        "id": "j4lRow4pybC0"
      },
      "execution_count": 15,
      "outputs": []
    },
    {
      "cell_type": "code",
      "source": [
        "# Merge transactions with ID mapping\n",
        "merged_df = transactions_df.merge(id_mapping_df, on=\"customer_id_legacy\", how=\"left\")"
      ],
      "metadata": {
        "colab": {
          "base_uri": "https://localhost:8080/"
        },
        "id": "SJwNcuehzW_5",
        "outputId": "6c1bf218-09f2-48f0-fc8d-2fb563a432fd"
      },
      "execution_count": 16,
      "outputs": [
        {
          "output_type": "stream",
          "name": "stderr",
          "text": [
            "<ipython-input-16-987c7a555462>:2: UserWarning: You are merging on int and float columns where the float values are not equal to their int representation.\n",
            "  merged_df = transactions_df.merge(id_mapping_df, on=\"customer_id_legacy\", how=\"left\")\n"
          ]
        }
      ]
    },
    {
      "cell_type": "code",
      "source": [
        "# Merge with social profiles\n",
        "final_df = merged_df.merge(social_profiles_df, on=\"customer_id_new\", how=\"left\")"
      ],
      "metadata": {
        "id": "ntdu0TaLzj2r"
      },
      "execution_count": 17,
      "outputs": []
    },
    {
      "cell_type": "code",
      "source": [
        "# Handle missing values\n",
        "final_df.fillna({\"engagement_score\": final_df[\"engagement_score\"].median(),\n",
        "                 \"purchase_interest_score\": final_df[\"purchase_interest_score\"].median(),\n",
        "                 \"review_sentiment\": \"Neutral\"}, inplace=True)"
      ],
      "metadata": {
        "id": "aRT-IzRUzpRW"
      },
      "execution_count": 18,
      "outputs": []
    },
    {
      "cell_type": "code",
      "source": [
        "# Aggregate transaction data per customer\n",
        "aggregated_df = final_df.groupby(\"customer_id_new\").agg({\n",
        "    \"purchase_amount\": [\"sum\", \"mean\"],\n",
        "    \"customer_rating\": \"mean\",\n",
        "    \"engagement_score\": \"mean\",\n",
        "    \"purchase_interest_score\": \"mean\"\n",
        "}).reset_index()\n"
      ],
      "metadata": {
        "id": "qAK0oK36zw_G"
      },
      "execution_count": 19,
      "outputs": []
    },
    {
      "cell_type": "code",
      "source": [
        "# Rename columns\n",
        "aggregated_df.columns = [\"customer_id_new\", \"total_spent\", \"avg_spent\", \"avg_rating\",\n",
        "                         \"avg_engagement_score\", \"avg_purchase_interest_score\"]"
      ],
      "metadata": {
        "id": "BL1uFYsiz2R8"
      },
      "execution_count": 20,
      "outputs": []
    },
    {
      "cell_type": "code",
      "source": [
        "# Compute Customer Engagement Score\n",
        "aggregated_df[\"customer_engagement_score\"] = (\n",
        "    0.5 * aggregated_df[\"avg_engagement_score\"] +\n",
        "    0.3 * aggregated_df[\"avg_purchase_interest_score\"] +\n",
        "    0.2 * aggregated_df[\"avg_rating\"]\n",
        ")"
      ],
      "metadata": {
        "id": "FTn9y-sH0H85"
      },
      "execution_count": 22,
      "outputs": []
    },
    {
      "cell_type": "code",
      "source": [
        "# TF-IDF on customer reviews (if available)\n",
        "from sklearn.feature_extraction.text import TfidfVectorizer # Import the necessary class\n",
        "\n",
        "if \"review_sentiment\" in final_df.columns:\n",
        "    vectorizer = TfidfVectorizer()\n",
        "    tfidf_matrix = vectorizer.fit_transform(final_df[\"review_sentiment\"].astype(str))\n",
        "    tfidf_df = pd.DataFrame(tfidf_matrix.toarray(), columns=vectorizer.get_feature_names_out())\n",
        "    final_df = pd.concat([final_df, tfidf_df], axis=1)"
      ],
      "metadata": {
        "id": "Cds89HII0YNG"
      },
      "execution_count": 24,
      "outputs": []
    },
    {
      "cell_type": "code",
      "source": [
        "# Save final dataset\n",
        "output_file = \"final_customer_data_13.csv\"\n",
        "aggregated_df.to_csv(output_file, index=False)\n",
        "\n",
        "print(f\"Final processed dataset saved as {output_file}\")"
      ],
      "metadata": {
        "colab": {
          "base_uri": "https://localhost:8080/"
        },
        "id": "UsOqEIyq1CZw",
        "outputId": "5c173ffd-add7-425e-f107-636041a16f11"
      },
      "execution_count": 25,
      "outputs": [
        {
          "output_type": "stream",
          "name": "stdout",
          "text": [
            "Final processed dataset saved as final_customer_data_13.csv\n"
          ]
        }
      ]
    }
  ]
}